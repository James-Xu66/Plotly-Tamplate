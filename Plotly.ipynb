{
 "cells": [
  {
   "cell_type": "markdown",
   "id": "eebfd07d-be22-4deb-aba3-a28e6059477a",
   "metadata": {
    "tags": []
   },
   "source": [
    "## Library Importing"
   ]
  },
  {
   "cell_type": "code",
   "execution_count": null,
   "id": "e110f55c-da61-4dea-ab16-f018588cd40b",
   "metadata": {},
   "outputs": [],
   "source": [
    "from pathlib import Path\n",
    "import matplotlib.pyplot as plt\n",
    "import numpy as np\n",
    "import pandas as pd\n",
    "import pandas_profiling as pp\n",
    "import seaborn as sns\n",
    "from IPython.display import display\n",
    "import pandas_profiling as pp\n",
    "\n",
    "# Plotly\n",
    "import plotly.express as px\n",
    "from plotly.subplots import make_subplots\n",
    "import plotly.figure_factory as ff\n",
    "import plotly.offline as offline\n",
    "import plotly.graph_objs as go"
   ]
  },
  {
   "cell_type": "markdown",
   "id": "421a4238-a482-430e-a787-34233cfee904",
   "metadata": {
    "jp-MarkdownHeadingCollapsed": true,
    "tags": []
   },
   "source": [
    "## Heat Map"
   ]
  },
  {
   "cell_type": "code",
   "execution_count": null,
   "id": "9b85028c-5825-455e-8e9d-14b9ab179e2d",
   "metadata": {},
   "outputs": [],
   "source": [
    "# fig = px.imshow(input_correlation_matrix_here, color_continuous_scale='RdBu_r', color_continuous_midpoint=0, origin='lower', aspect='auto')\n",
    "\n",
    "# fig.update_xaxes(showgrid = False, \n",
    "#                  linecolor='gray', \n",
    "#                  linewidth = 2, \n",
    "#                  zeroline = False)\n",
    "# fig.update_yaxes(showgrid = True, \n",
    "#                  gridcolor='gray',\n",
    "#                  gridwidth=0.5, \n",
    "#                  linecolor='gray',\n",
    "#                  linewidth=2, \n",
    "#                  zeroline = False)\n",
    "\n",
    "# # General Styling\n",
    "# fig.update_layout(height=750, bargap=0.2,\n",
    "#                   margin=dict(b=50,r=30,l=100, t=100),\n",
    "#                   title = \"<span style='font-size:36px; font-family:Times New Roman'>Heatmap</span>\",                  \n",
    "#                   plot_bgcolor='rgb(242,242,242)',\n",
    "#                   paper_bgcolor = 'rgb(242,242,242)',\n",
    "#                   font=dict(family=\"Times New Roman\", size= 14),\n",
    "#                   hoverlabel=dict(font_color=\"floralwhite\"),\n",
    "#                   showlegend=False)\n",
    "# fig.show()"
   ]
  },
  {
   "cell_type": "markdown",
   "id": "965a582c-9acf-4950-94f8-15815d189d1b",
   "metadata": {
    "jp-MarkdownHeadingCollapsed": true,
    "tags": []
   },
   "source": [
    "## Bar Plot"
   ]
  },
  {
   "cell_type": "code",
   "execution_count": null,
   "id": "5859f45a-6190-4e86-8dd8-b6f3fe7a6fe1",
   "metadata": {},
   "outputs": [],
   "source": [
    "# # chart\n",
    "# fig = make_subplots(rows=1, cols=2, \n",
    "#                     column_widths=[0.5, 0.5], \n",
    "#                     vertical_spacing=0.1, horizontal_spacing=0.1,\n",
    "#                     subplot_titles=('Sequence Count Distribution over Training Subjects',\n",
    "#                                     'Sequence Count Distribution over Test Subjects'))\n",
    "\n",
    "# fig.add_trace(go.Bar(x=subject_count['subject'], \n",
    "#                      y=subject_count['count'], \n",
    "#                      marker = dict(color=px.colors.sequential.Viridis[5])), \n",
    "#               row = 1, col = 1)\n",
    "\n",
    "# fig.update_xaxes(showgrid = False, \n",
    "#                  linecolor='gray', \n",
    "#                  linewidth = 2, \n",
    "#                  zeroline = False, \n",
    "#                  row=1, col=1)\n",
    "# fig.update_yaxes(showgrid = False, \n",
    "#                  linecolor='gray',\n",
    "#                  linewidth=2, \n",
    "#                  zeroline = False, \n",
    "#                  row=1, col=1)\n",
    "\n",
    "# # General Styling\n",
    "# fig.update_layout(height=400, bargap=0.2,\n",
    "#                   margin=dict(b=50,r=30,l=100),\n",
    "#                   title = \"<span style='font-size:36px; font-family:Times New Roman'>Sequence Count Analysis</span>\",                  \n",
    "#                   plot_bgcolor='rgb(242,242,242)',\n",
    "#                   paper_bgcolor = 'rgb(242,242,242)',\n",
    "#                   font=dict(family=\"Times New Roman\", size= 14),\n",
    "#                   hoverlabel=dict(font_color=\"floralwhite\"),\n",
    "#                   showlegend=False)"
   ]
  },
  {
   "cell_type": "code",
   "execution_count": null,
   "id": "b0e14a36-e3ca-4a23-8242-3ba30c2fab5a",
   "metadata": {},
   "outputs": [],
   "source": [
    "# fig = px.bar(skew_features, x='sensor',y='skewness', \n",
    "#              color = 'skewness', color_continuous_scale = 'Blugrn')\n",
    "\n",
    "\n",
    "# fig.update_xaxes(showgrid = False, showline = True, \n",
    "#                  gridwidth = 0.05, \n",
    "#                  linecolor = 'gray', \n",
    "#                  linewidth = 2)\n",
    "# fig.update_yaxes(showline = True, \n",
    "#                  gridwidth = 0.05, \n",
    "#                  linecolor = 'gray', \n",
    "#                  linewidth = 2, \n",
    "#                  zerolinecolor = 'gray', \n",
    "#                  zerolinewidth = 0.5)\n",
    "\n",
    "# # General Styling\n",
    "# fig.update_layout(height=500,\n",
    "#               margin=dict(b=50,r=30,l=100,t=100),\n",
    "#               title = \"<span style='font-size:36px; font-family:Times New Roman'>Sensors' Skewness</span>\",                  \n",
    "#               plot_bgcolor='rgb(242,242,242)',\n",
    "#               paper_bgcolor = 'rgb(242,242,242)',\n",
    "#               font=dict(family=\"Times New Roman\", size= 14),\n",
    "#               hoverlabel=dict(font_color=\"floralwhite\"),\n",
    "#               showlegend=False)\n",
    "# fig.show()"
   ]
  },
  {
   "cell_type": "markdown",
   "id": "d425b3ba-e21b-427b-a2bd-bf167186c57f",
   "metadata": {
    "tags": []
   },
   "source": [
    "## Bubble Plot(Scatter with Size)"
   ]
  },
  {
   "cell_type": "code",
   "execution_count": null,
   "id": "3d8509a1-0118-4557-bc45-cdc7c89cfa44",
   "metadata": {},
   "outputs": [],
   "source": [
    "# fig = px.scatter(x=mean_state.index,y=mean_state, \n",
    "#                  size=mean_state, \n",
    "#                  color_continuous_scale='Blugrn', color=mean_state)\n",
    "\n",
    "# fig.update_xaxes(showgrid = False, showline = True, \n",
    "#                  gridwidth = 0.05, \n",
    "#                  linecolor = 'gray', \n",
    "#                  zeroline = False, \n",
    "#                  linewidth = 2)\n",
    "# fig.update_yaxes(showline = True, \n",
    "#                  gridwidth = 0.05, \n",
    "#                  linecolor = 'gray', linewidth = 2, \n",
    "#                  zeroline = False)\n",
    "\n",
    "# # General Styling\n",
    "# fig.update_layout(height=500,\n",
    "#               margin=dict(b=50,r=30,l=100,t=100),\n",
    "#               title = \"<span style='font-size:36px; font-family:Times New Roman'>Subject Probability State Analysis</span>\",                  \n",
    "#               plot_bgcolor='rgb(242,242,242)',\n",
    "#               paper_bgcolor = 'rgb(242,242,242)',\n",
    "#               font=dict(family=\"Times New Roman\", size= 14),\n",
    "#               hoverlabel=dict(font_color=\"floralwhite\"),\n",
    "#               showlegend=False)\n",
    "\n",
    "# fig.show()"
   ]
  }
 ],
 "metadata": {
  "kernelspec": {
   "display_name": "Python 3 (ipykernel)",
   "language": "python",
   "name": "python3"
  },
  "language_info": {
   "codemirror_mode": {
    "name": "ipython",
    "version": 3
   },
   "file_extension": ".py",
   "mimetype": "text/x-python",
   "name": "python",
   "nbconvert_exporter": "python",
   "pygments_lexer": "ipython3",
   "version": "3.9.7"
  }
 },
 "nbformat": 4,
 "nbformat_minor": 5
}

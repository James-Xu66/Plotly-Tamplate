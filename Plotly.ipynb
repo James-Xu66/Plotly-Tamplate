{
 "cells": [
  {
   "cell_type": "markdown",
   "id": "eebfd07d-be22-4deb-aba3-a28e6059477a",
   "metadata": {
    "tags": []
   },
   "source": [
    "## Library Importing"
   ]
  },
  {
   "cell_type": "code",
   "execution_count": null,
   "id": "e110f55c-da61-4dea-ab16-f018588cd40b",
   "metadata": {},
   "outputs": [],
   "source": [
    "from pathlib import Path\n",
    "import matplotlib.pyplot as plt\n",
    "import numpy as np\n",
    "import pandas as pd\n",
    "import pandas_profiling as pp\n",
    "import seaborn as sns\n",
    "from IPython.display import display\n",
    "import pandas_profiling as pp\n",
    "\n",
    "# Plotly\n",
    "import plotly.express as px\n",
    "from plotly.subplots import make_subplots\n",
    "import plotly.figure_factory as ff\n",
    "import plotly.offline as offline\n",
    "import plotly.graph_objs as go"
   ]
  },
  {
   "cell_type": "markdown",
   "id": "421a4238-a482-430e-a787-34233cfee904",
   "metadata": {},
   "source": [
    "## Heat Map"
   ]
  },
  {
   "cell_type": "code",
   "execution_count": null,
   "id": "9b85028c-5825-455e-8e9d-14b9ab179e2d",
   "metadata": {},
   "outputs": [],
   "source": [
    "# fig = px.imshow(???, color_continuous_scale='RdBu_r', color_continuous_midpoint=0, origin='lower', aspect='auto')\n",
    "# fig.update_xaxes(showgrid = False, linecolor='gray', linewidth = 2, zeroline = False)\n",
    "# fig.update_yaxes(showgrid = True, gridcolor='gray',gridwidth=0.5, linecolor='gray',linewidth=2, zeroline = False)\n",
    "\n",
    "# # General Styling\n",
    "# fig.update_layout(height=750, bargap=0.2,\n",
    "#                   margin=dict(b=50,r=30,l=100, t=100),\n",
    "#                   title = \"<span style='font-size:36px; font-family:Times New Roman'>Heatmap</span>\",                  \n",
    "#                   plot_bgcolor='rgb(242,242,242)',\n",
    "#                   paper_bgcolor = 'rgb(242,242,242)',\n",
    "#                   font=dict(family=\"Times New Roman\", size= 14),\n",
    "#                   hoverlabel=dict(font_color=\"floralwhite\"),\n",
    "#                   showlegend=False)\n",
    "# fig.show()"
   ]
  }
 ],
 "metadata": {
  "kernelspec": {
   "display_name": "Python 3 (ipykernel)",
   "language": "python",
   "name": "python3"
  },
  "language_info": {
   "codemirror_mode": {
    "name": "ipython",
    "version": 3
   },
   "file_extension": ".py",
   "mimetype": "text/x-python",
   "name": "python",
   "nbconvert_exporter": "python",
   "pygments_lexer": "ipython3",
   "version": "3.9.7"
  }
 },
 "nbformat": 4,
 "nbformat_minor": 5
}
